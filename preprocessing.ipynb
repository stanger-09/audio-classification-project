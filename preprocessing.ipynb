import os
import librosa
import numpy as np
import matplotlib.pyplot as plt
DIR='./audio_data'    #path for audio
# audio_wav=[]          # .wav audio files
# audio_mp3=[]          # .mp3 audio files
# def Load(DIR):
#   for dirpath,_,filenames in os.walk(DIR):
#     for file in filenames:
#       if file.endswith('.wav'):
#         audio_wav.append(os.path.join(dirpath,file))
#       elif file.endswith('.mp3'):
#         audio_mp3.append(os.path.join(dirpath,file))
# Load(DIR)
# print(len(audio_wav))
# print(len(audio_mp3))

#seting the resampling to all files.
resample=16000   #resample 16KHZ
sec=5            # seconds to 5
total_dur=resample*sec #total duration 80,000
audio_data=[]
def loadAudio(DIR,resample,sec):
  for dirpath,_,filenames in os.walk(DIR):
    for file in filenames:
      if not file.endswith('.wav'):
        continue

      path=os.path.join(dirpath,file)
      audio,sr=librosa.load(path,sr=resample)

      #trim silence
      audio,_=librosa.effects.trim(audio,top_db=20)

      #Normalize
      if(np.max(np.abs(audio))>0):
        audio=audio/np.max(np.abs(audio))

      #crop/padding for 5 sec
      if(len(audio)<total_dur):
        audio=np.pad(audio,(0,total_dur-len(audio)))
      else:
        audio=audio[:total_dur]
      audio_data.append(audio)
#matrix to store
loadAudio(DIR,resample,sec)
print(len(audio_data))


def feature_exe(audio_data):
  n_mels=64
  n_fft=1024
  hop_length=512
  y=16000
  print(len(audio_data) )
  for i in audio_data:
    #compute to Mel Spectrogram
    mel_spectrogram=librosa.feature.melspectrogram(y=i,sr=y,n_mels=n_mels,n_fft=n_fft,hop_length=hop_length)

    # compute to log Mel Spectrogram db
    log_mel_sp.append(librosa.power_to_db(mel_spectrogram,ref=np.max))
log_mel_sp=[]
feature_exe(audio_data)
print(len(log_mel_sp))
# audio_data.clear()
plt.figure(figsize=(12, 4))
librosa.display.waveshow(audio_data[0], sr=16000)  # use waveshow (librosa>=0.8) or waveplot
plt.title("Waveform of audio_data[0]")
plt.xlabel("Time (seconds)")
plt.ylabel("Amplitude")
plt.show()
